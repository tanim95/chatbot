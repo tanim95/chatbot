{
  "cells": [
    {
      "cell_type": "markdown",
      "metadata": {
        "id": "HpMcwhY7-WUX"
      },
      "source": [
        "#chatbots\n",
        "\n"
      ]
    },
    {
      "cell_type": "code",
      "execution_count": 229,
      "metadata": {
        "id": "eEGdOnrb8F3e"
      },
      "outputs": [],
      "source": [
        "import numpy as np\n",
        "import matplotlib.pyplot as plt\n",
        "import spacy\n",
        "from spacy import displacy\n",
        "import nltk\n",
        "import pandas as pd\n",
        "from keras.preprocessing.sequence import pad_sequences"
      ]
    },
    {
      "cell_type": "code",
      "execution_count": 230,
      "metadata": {
        "id": "vleNrqhN-V4u"
      },
      "outputs": [],
      "source": [
        "import pickle\n",
        "with open('/content/train_qa.txt','rb') as f:\n",
        "  train_data = pickle.load(f)"
      ]
    },
    {
      "cell_type": "code",
      "execution_count": 231,
      "metadata": {
        "id": "ReXP4Yen-WB4"
      },
      "outputs": [],
      "source": [
        "with open('/content/test_qa.txt','rb') as f:\n",
        "  test_data = pickle.load(f)"
      ]
    },
    {
      "cell_type": "code",
      "execution_count": 232,
      "metadata": {
        "id": "zxNclu4yA3Cx"
      },
      "outputs": [],
      "source": [
        "all_data  = train_data + test_data"
      ]
    },
    {
      "cell_type": "code",
      "execution_count": 233,
      "metadata": {
        "colab": {
          "base_uri": "https://localhost:8080/",
          "height": 35
        },
        "id": "GLDyiJdg-WDi",
        "outputId": "7e0c83a2-e1e8-4045-c2b6-64e615588cf5"
      },
      "outputs": [
        {
          "output_type": "execute_result",
          "data": {
            "text/plain": [
              "'Mary moved to the bathroom . Sandra journeyed to the bedroom .'"
            ],
            "application/vnd.google.colaboratory.intrinsic+json": {
              "type": "string"
            }
          },
          "metadata": {},
          "execution_count": 233
        }
      ],
      "source": [
        "' '.join(train_data[0][0])"
      ]
    },
    {
      "cell_type": "code",
      "execution_count": 234,
      "metadata": {
        "colab": {
          "base_uri": "https://localhost:8080/",
          "height": 35
        },
        "id": "eMlGJVjJAYSY",
        "outputId": "235331bd-92d4-49c9-be37-a21a1f922189"
      },
      "outputs": [
        {
          "output_type": "execute_result",
          "data": {
            "text/plain": [
              "'Mary moved to the bathroom . Sandra journeyed to the bedroom .'"
            ],
            "application/vnd.google.colaboratory.intrinsic+json": {
              "type": "string"
            }
          },
          "metadata": {},
          "execution_count": 234
        }
      ],
      "source": [
        "' '.join(train_data[0][0])"
      ]
    },
    {
      "cell_type": "code",
      "execution_count": 235,
      "metadata": {
        "colab": {
          "base_uri": "https://localhost:8080/",
          "height": 35
        },
        "id": "PZvEaXi5BE2v",
        "outputId": "a4d32f68-b07d-42a8-c020-c47b0c0cf0bc"
      },
      "outputs": [
        {
          "output_type": "execute_result",
          "data": {
            "text/plain": [
              "'n o'"
            ],
            "application/vnd.google.colaboratory.intrinsic+json": {
              "type": "string"
            }
          },
          "metadata": {},
          "execution_count": 235
        }
      ],
      "source": [
        "' '.join(train_data[0][2])"
      ]
    },
    {
      "cell_type": "code",
      "execution_count": 236,
      "metadata": {
        "colab": {
          "base_uri": "https://localhost:8080/",
          "height": 424
        },
        "id": "5Ujdrn51BIgU",
        "outputId": "c9769998-bfd7-406d-a34a-8f96aea06180"
      },
      "outputs": [
        {
          "output_type": "execute_result",
          "data": {
            "text/plain": [
              "                                                   Story  \\\n",
              "0      [Mary, moved, to, the, bathroom, ., Sandra, jo...   \n",
              "1      [Mary, moved, to, the, bathroom, ., Sandra, jo...   \n",
              "2      [Mary, moved, to, the, bathroom, ., Sandra, jo...   \n",
              "3      [Mary, moved, to, the, bathroom, ., Sandra, jo...   \n",
              "4      [Mary, moved, to, the, bathroom, ., Sandra, jo...   \n",
              "...                                                  ...   \n",
              "10995  [Mary, moved, to, the, kitchen, ., Mary, trave...   \n",
              "10996  [Mary, moved, to, the, kitchen, ., Mary, trave...   \n",
              "10997  [Mary, moved, to, the, kitchen, ., Mary, trave...   \n",
              "10998  [Mary, moved, to, the, kitchen, ., Mary, trave...   \n",
              "10999  [Mary, moved, to, the, kitchen, ., Mary, trave...   \n",
              "\n",
              "                                 Question Answer  \n",
              "0       [Is, Sandra, in, the, hallway, ?]     no  \n",
              "1      [Is, Daniel, in, the, bathroom, ?]     no  \n",
              "2        [Is, Daniel, in, the, office, ?]     no  \n",
              "3       [Is, Daniel, in, the, bedroom, ?]    yes  \n",
              "4       [Is, Daniel, in, the, bedroom, ?]    yes  \n",
              "...                                   ...    ...  \n",
              "10995     [Is, Mary, in, the, bedroom, ?]     no  \n",
              "10996   [Is, Sandra, in, the, kitchen, ?]     no  \n",
              "10997     [Is, Mary, in, the, bedroom, ?]     no  \n",
              "10998    [Is, Sandra, in, the, garden, ?]    yes  \n",
              "10999      [Is, Mary, in, the, garden, ?]    yes  \n",
              "\n",
              "[11000 rows x 3 columns]"
            ],
            "text/html": [
              "\n",
              "  <div id=\"df-20e9017d-50e1-4946-908a-b25406e638d3\" class=\"colab-df-container\">\n",
              "    <div>\n",
              "<style scoped>\n",
              "    .dataframe tbody tr th:only-of-type {\n",
              "        vertical-align: middle;\n",
              "    }\n",
              "\n",
              "    .dataframe tbody tr th {\n",
              "        vertical-align: top;\n",
              "    }\n",
              "\n",
              "    .dataframe thead th {\n",
              "        text-align: right;\n",
              "    }\n",
              "</style>\n",
              "<table border=\"1\" class=\"dataframe\">\n",
              "  <thead>\n",
              "    <tr style=\"text-align: right;\">\n",
              "      <th></th>\n",
              "      <th>Story</th>\n",
              "      <th>Question</th>\n",
              "      <th>Answer</th>\n",
              "    </tr>\n",
              "  </thead>\n",
              "  <tbody>\n",
              "    <tr>\n",
              "      <th>0</th>\n",
              "      <td>[Mary, moved, to, the, bathroom, ., Sandra, jo...</td>\n",
              "      <td>[Is, Sandra, in, the, hallway, ?]</td>\n",
              "      <td>no</td>\n",
              "    </tr>\n",
              "    <tr>\n",
              "      <th>1</th>\n",
              "      <td>[Mary, moved, to, the, bathroom, ., Sandra, jo...</td>\n",
              "      <td>[Is, Daniel, in, the, bathroom, ?]</td>\n",
              "      <td>no</td>\n",
              "    </tr>\n",
              "    <tr>\n",
              "      <th>2</th>\n",
              "      <td>[Mary, moved, to, the, bathroom, ., Sandra, jo...</td>\n",
              "      <td>[Is, Daniel, in, the, office, ?]</td>\n",
              "      <td>no</td>\n",
              "    </tr>\n",
              "    <tr>\n",
              "      <th>3</th>\n",
              "      <td>[Mary, moved, to, the, bathroom, ., Sandra, jo...</td>\n",
              "      <td>[Is, Daniel, in, the, bedroom, ?]</td>\n",
              "      <td>yes</td>\n",
              "    </tr>\n",
              "    <tr>\n",
              "      <th>4</th>\n",
              "      <td>[Mary, moved, to, the, bathroom, ., Sandra, jo...</td>\n",
              "      <td>[Is, Daniel, in, the, bedroom, ?]</td>\n",
              "      <td>yes</td>\n",
              "    </tr>\n",
              "    <tr>\n",
              "      <th>...</th>\n",
              "      <td>...</td>\n",
              "      <td>...</td>\n",
              "      <td>...</td>\n",
              "    </tr>\n",
              "    <tr>\n",
              "      <th>10995</th>\n",
              "      <td>[Mary, moved, to, the, kitchen, ., Mary, trave...</td>\n",
              "      <td>[Is, Mary, in, the, bedroom, ?]</td>\n",
              "      <td>no</td>\n",
              "    </tr>\n",
              "    <tr>\n",
              "      <th>10996</th>\n",
              "      <td>[Mary, moved, to, the, kitchen, ., Mary, trave...</td>\n",
              "      <td>[Is, Sandra, in, the, kitchen, ?]</td>\n",
              "      <td>no</td>\n",
              "    </tr>\n",
              "    <tr>\n",
              "      <th>10997</th>\n",
              "      <td>[Mary, moved, to, the, kitchen, ., Mary, trave...</td>\n",
              "      <td>[Is, Mary, in, the, bedroom, ?]</td>\n",
              "      <td>no</td>\n",
              "    </tr>\n",
              "    <tr>\n",
              "      <th>10998</th>\n",
              "      <td>[Mary, moved, to, the, kitchen, ., Mary, trave...</td>\n",
              "      <td>[Is, Sandra, in, the, garden, ?]</td>\n",
              "      <td>yes</td>\n",
              "    </tr>\n",
              "    <tr>\n",
              "      <th>10999</th>\n",
              "      <td>[Mary, moved, to, the, kitchen, ., Mary, trave...</td>\n",
              "      <td>[Is, Mary, in, the, garden, ?]</td>\n",
              "      <td>yes</td>\n",
              "    </tr>\n",
              "  </tbody>\n",
              "</table>\n",
              "<p>11000 rows × 3 columns</p>\n",
              "</div>\n",
              "    <div class=\"colab-df-buttons\">\n",
              "\n",
              "  <div class=\"colab-df-container\">\n",
              "    <button class=\"colab-df-convert\" onclick=\"convertToInteractive('df-20e9017d-50e1-4946-908a-b25406e638d3')\"\n",
              "            title=\"Convert this dataframe to an interactive table.\"\n",
              "            style=\"display:none;\">\n",
              "\n",
              "  <svg xmlns=\"http://www.w3.org/2000/svg\" height=\"24px\" viewBox=\"0 -960 960 960\">\n",
              "    <path d=\"M120-120v-720h720v720H120Zm60-500h600v-160H180v160Zm220 220h160v-160H400v160Zm0 220h160v-160H400v160ZM180-400h160v-160H180v160Zm440 0h160v-160H620v160ZM180-180h160v-160H180v160Zm440 0h160v-160H620v160Z\"/>\n",
              "  </svg>\n",
              "    </button>\n",
              "\n",
              "  <style>\n",
              "    .colab-df-container {\n",
              "      display:flex;\n",
              "      gap: 12px;\n",
              "    }\n",
              "\n",
              "    .colab-df-convert {\n",
              "      background-color: #E8F0FE;\n",
              "      border: none;\n",
              "      border-radius: 50%;\n",
              "      cursor: pointer;\n",
              "      display: none;\n",
              "      fill: #1967D2;\n",
              "      height: 32px;\n",
              "      padding: 0 0 0 0;\n",
              "      width: 32px;\n",
              "    }\n",
              "\n",
              "    .colab-df-convert:hover {\n",
              "      background-color: #E2EBFA;\n",
              "      box-shadow: 0px 1px 2px rgba(60, 64, 67, 0.3), 0px 1px 3px 1px rgba(60, 64, 67, 0.15);\n",
              "      fill: #174EA6;\n",
              "    }\n",
              "\n",
              "    .colab-df-buttons div {\n",
              "      margin-bottom: 4px;\n",
              "    }\n",
              "\n",
              "    [theme=dark] .colab-df-convert {\n",
              "      background-color: #3B4455;\n",
              "      fill: #D2E3FC;\n",
              "    }\n",
              "\n",
              "    [theme=dark] .colab-df-convert:hover {\n",
              "      background-color: #434B5C;\n",
              "      box-shadow: 0px 1px 3px 1px rgba(0, 0, 0, 0.15);\n",
              "      filter: drop-shadow(0px 1px 2px rgba(0, 0, 0, 0.3));\n",
              "      fill: #FFFFFF;\n",
              "    }\n",
              "  </style>\n",
              "\n",
              "    <script>\n",
              "      const buttonEl =\n",
              "        document.querySelector('#df-20e9017d-50e1-4946-908a-b25406e638d3 button.colab-df-convert');\n",
              "      buttonEl.style.display =\n",
              "        google.colab.kernel.accessAllowed ? 'block' : 'none';\n",
              "\n",
              "      async function convertToInteractive(key) {\n",
              "        const element = document.querySelector('#df-20e9017d-50e1-4946-908a-b25406e638d3');\n",
              "        const dataTable =\n",
              "          await google.colab.kernel.invokeFunction('convertToInteractive',\n",
              "                                                    [key], {});\n",
              "        if (!dataTable) return;\n",
              "\n",
              "        const docLinkHtml = 'Like what you see? Visit the ' +\n",
              "          '<a target=\"_blank\" href=https://colab.research.google.com/notebooks/data_table.ipynb>data table notebook</a>'\n",
              "          + ' to learn more about interactive tables.';\n",
              "        element.innerHTML = '';\n",
              "        dataTable['output_type'] = 'display_data';\n",
              "        await google.colab.output.renderOutput(dataTable, element);\n",
              "        const docLink = document.createElement('div');\n",
              "        docLink.innerHTML = docLinkHtml;\n",
              "        element.appendChild(docLink);\n",
              "      }\n",
              "    </script>\n",
              "  </div>\n",
              "\n",
              "\n",
              "<div id=\"df-0fe723c6-d0a0-4185-8186-a80b4950fc49\">\n",
              "  <button class=\"colab-df-quickchart\" onclick=\"quickchart('df-0fe723c6-d0a0-4185-8186-a80b4950fc49')\"\n",
              "            title=\"Suggest charts\"\n",
              "            style=\"display:none;\">\n",
              "\n",
              "<svg xmlns=\"http://www.w3.org/2000/svg\" height=\"24px\"viewBox=\"0 0 24 24\"\n",
              "     width=\"24px\">\n",
              "    <g>\n",
              "        <path d=\"M19 3H5c-1.1 0-2 .9-2 2v14c0 1.1.9 2 2 2h14c1.1 0 2-.9 2-2V5c0-1.1-.9-2-2-2zM9 17H7v-7h2v7zm4 0h-2V7h2v10zm4 0h-2v-4h2v4z\"/>\n",
              "    </g>\n",
              "</svg>\n",
              "  </button>\n",
              "\n",
              "<style>\n",
              "  .colab-df-quickchart {\n",
              "      --bg-color: #E8F0FE;\n",
              "      --fill-color: #1967D2;\n",
              "      --hover-bg-color: #E2EBFA;\n",
              "      --hover-fill-color: #174EA6;\n",
              "      --disabled-fill-color: #AAA;\n",
              "      --disabled-bg-color: #DDD;\n",
              "  }\n",
              "\n",
              "  [theme=dark] .colab-df-quickchart {\n",
              "      --bg-color: #3B4455;\n",
              "      --fill-color: #D2E3FC;\n",
              "      --hover-bg-color: #434B5C;\n",
              "      --hover-fill-color: #FFFFFF;\n",
              "      --disabled-bg-color: #3B4455;\n",
              "      --disabled-fill-color: #666;\n",
              "  }\n",
              "\n",
              "  .colab-df-quickchart {\n",
              "    background-color: var(--bg-color);\n",
              "    border: none;\n",
              "    border-radius: 50%;\n",
              "    cursor: pointer;\n",
              "    display: none;\n",
              "    fill: var(--fill-color);\n",
              "    height: 32px;\n",
              "    padding: 0;\n",
              "    width: 32px;\n",
              "  }\n",
              "\n",
              "  .colab-df-quickchart:hover {\n",
              "    background-color: var(--hover-bg-color);\n",
              "    box-shadow: 0 1px 2px rgba(60, 64, 67, 0.3), 0 1px 3px 1px rgba(60, 64, 67, 0.15);\n",
              "    fill: var(--button-hover-fill-color);\n",
              "  }\n",
              "\n",
              "  .colab-df-quickchart-complete:disabled,\n",
              "  .colab-df-quickchart-complete:disabled:hover {\n",
              "    background-color: var(--disabled-bg-color);\n",
              "    fill: var(--disabled-fill-color);\n",
              "    box-shadow: none;\n",
              "  }\n",
              "\n",
              "  .colab-df-spinner {\n",
              "    border: 2px solid var(--fill-color);\n",
              "    border-color: transparent;\n",
              "    border-bottom-color: var(--fill-color);\n",
              "    animation:\n",
              "      spin 1s steps(1) infinite;\n",
              "  }\n",
              "\n",
              "  @keyframes spin {\n",
              "    0% {\n",
              "      border-color: transparent;\n",
              "      border-bottom-color: var(--fill-color);\n",
              "      border-left-color: var(--fill-color);\n",
              "    }\n",
              "    20% {\n",
              "      border-color: transparent;\n",
              "      border-left-color: var(--fill-color);\n",
              "      border-top-color: var(--fill-color);\n",
              "    }\n",
              "    30% {\n",
              "      border-color: transparent;\n",
              "      border-left-color: var(--fill-color);\n",
              "      border-top-color: var(--fill-color);\n",
              "      border-right-color: var(--fill-color);\n",
              "    }\n",
              "    40% {\n",
              "      border-color: transparent;\n",
              "      border-right-color: var(--fill-color);\n",
              "      border-top-color: var(--fill-color);\n",
              "    }\n",
              "    60% {\n",
              "      border-color: transparent;\n",
              "      border-right-color: var(--fill-color);\n",
              "    }\n",
              "    80% {\n",
              "      border-color: transparent;\n",
              "      border-right-color: var(--fill-color);\n",
              "      border-bottom-color: var(--fill-color);\n",
              "    }\n",
              "    90% {\n",
              "      border-color: transparent;\n",
              "      border-bottom-color: var(--fill-color);\n",
              "    }\n",
              "  }\n",
              "</style>\n",
              "\n",
              "  <script>\n",
              "    async function quickchart(key) {\n",
              "      const quickchartButtonEl =\n",
              "        document.querySelector('#' + key + ' button');\n",
              "      quickchartButtonEl.disabled = true;  // To prevent multiple clicks.\n",
              "      quickchartButtonEl.classList.add('colab-df-spinner');\n",
              "      try {\n",
              "        const charts = await google.colab.kernel.invokeFunction(\n",
              "            'suggestCharts', [key], {});\n",
              "      } catch (error) {\n",
              "        console.error('Error during call to suggestCharts:', error);\n",
              "      }\n",
              "      quickchartButtonEl.classList.remove('colab-df-spinner');\n",
              "      quickchartButtonEl.classList.add('colab-df-quickchart-complete');\n",
              "    }\n",
              "    (() => {\n",
              "      let quickchartButtonEl =\n",
              "        document.querySelector('#df-0fe723c6-d0a0-4185-8186-a80b4950fc49 button');\n",
              "      quickchartButtonEl.style.display =\n",
              "        google.colab.kernel.accessAllowed ? 'block' : 'none';\n",
              "    })();\n",
              "  </script>\n",
              "</div>\n",
              "\n",
              "  <div id=\"id_6de77998-ccb3-4bca-bfc2-881007b2805d\">\n",
              "    <style>\n",
              "      .colab-df-generate {\n",
              "        background-color: #E8F0FE;\n",
              "        border: none;\n",
              "        border-radius: 50%;\n",
              "        cursor: pointer;\n",
              "        display: none;\n",
              "        fill: #1967D2;\n",
              "        height: 32px;\n",
              "        padding: 0 0 0 0;\n",
              "        width: 32px;\n",
              "      }\n",
              "\n",
              "      .colab-df-generate:hover {\n",
              "        background-color: #E2EBFA;\n",
              "        box-shadow: 0px 1px 2px rgba(60, 64, 67, 0.3), 0px 1px 3px 1px rgba(60, 64, 67, 0.15);\n",
              "        fill: #174EA6;\n",
              "      }\n",
              "\n",
              "      [theme=dark] .colab-df-generate {\n",
              "        background-color: #3B4455;\n",
              "        fill: #D2E3FC;\n",
              "      }\n",
              "\n",
              "      [theme=dark] .colab-df-generate:hover {\n",
              "        background-color: #434B5C;\n",
              "        box-shadow: 0px 1px 3px 1px rgba(0, 0, 0, 0.15);\n",
              "        filter: drop-shadow(0px 1px 2px rgba(0, 0, 0, 0.3));\n",
              "        fill: #FFFFFF;\n",
              "      }\n",
              "    </style>\n",
              "    <button class=\"colab-df-generate\" onclick=\"generateWithVariable('df')\"\n",
              "            title=\"Generate code using this dataframe.\"\n",
              "            style=\"display:none;\">\n",
              "\n",
              "  <svg xmlns=\"http://www.w3.org/2000/svg\" height=\"24px\"viewBox=\"0 0 24 24\"\n",
              "       width=\"24px\">\n",
              "    <path d=\"M7,19H8.4L18.45,9,17,7.55,7,17.6ZM5,21V16.75L18.45,3.32a2,2,0,0,1,2.83,0l1.4,1.43a1.91,1.91,0,0,1,.58,1.4,1.91,1.91,0,0,1-.58,1.4L9.25,21ZM18.45,9,17,7.55Zm-12,3A5.31,5.31,0,0,0,4.9,8.1,5.31,5.31,0,0,0,1,6.5,5.31,5.31,0,0,0,4.9,4.9,5.31,5.31,0,0,0,6.5,1,5.31,5.31,0,0,0,8.1,4.9,5.31,5.31,0,0,0,12,6.5,5.46,5.46,0,0,0,6.5,12Z\"/>\n",
              "  </svg>\n",
              "    </button>\n",
              "    <script>\n",
              "      (() => {\n",
              "      const buttonEl =\n",
              "        document.querySelector('#id_6de77998-ccb3-4bca-bfc2-881007b2805d button.colab-df-generate');\n",
              "      buttonEl.style.display =\n",
              "        google.colab.kernel.accessAllowed ? 'block' : 'none';\n",
              "\n",
              "      buttonEl.onclick = () => {\n",
              "        google.colab.notebook.generateWithVariable('df');\n",
              "      }\n",
              "      })();\n",
              "    </script>\n",
              "  </div>\n",
              "\n",
              "    </div>\n",
              "  </div>\n"
            ]
          },
          "metadata": {},
          "execution_count": 236
        }
      ],
      "source": [
        "df  = pd.DataFrame(all_data,columns=['Story','Question','Answer'])\n",
        "df"
      ]
    },
    {
      "cell_type": "code",
      "execution_count": 237,
      "metadata": {
        "id": "A3hiu6p0BiMA"
      },
      "outputs": [],
      "source": [
        "vocab = set()\n",
        "for story,question,answer in all_data:\n",
        "  vocab = vocab.union(set(story))\n",
        "  vocab = vocab.union(set(question))\n"
      ]
    },
    {
      "cell_type": "code",
      "execution_count": 238,
      "metadata": {
        "colab": {
          "base_uri": "https://localhost:8080/"
        },
        "id": "B5WybNS8Ds84",
        "outputId": "d48c61fc-455f-4552-a732-ff0838998c1c"
      },
      "outputs": [
        {
          "output_type": "execute_result",
          "data": {
            "text/plain": [
              "{'.',\n",
              " '?',\n",
              " 'Daniel',\n",
              " 'Is',\n",
              " 'John',\n",
              " 'Mary',\n",
              " 'Sandra',\n",
              " 'apple',\n",
              " 'back',\n",
              " 'bathroom',\n",
              " 'bedroom',\n",
              " 'discarded',\n",
              " 'down',\n",
              " 'dropped',\n",
              " 'football',\n",
              " 'garden',\n",
              " 'got',\n",
              " 'grabbed',\n",
              " 'hallway',\n",
              " 'in',\n",
              " 'journeyed',\n",
              " 'kitchen',\n",
              " 'left',\n",
              " 'milk',\n",
              " 'moved',\n",
              " 'no',\n",
              " 'office',\n",
              " 'picked',\n",
              " 'put',\n",
              " 'the',\n",
              " 'there',\n",
              " 'to',\n",
              " 'took',\n",
              " 'travelled',\n",
              " 'up',\n",
              " 'went',\n",
              " 'yes'}"
            ]
          },
          "metadata": {},
          "execution_count": 238
        }
      ],
      "source": [
        "vocab.add('yes')\n",
        "vocab.add('no')\n",
        "vocab"
      ]
    },
    {
      "cell_type": "code",
      "execution_count": 239,
      "metadata": {
        "id": "LtuEyeWNEQnc"
      },
      "outputs": [],
      "source": [
        "vocab_len = len(vocab) + 1\n",
        "# for i in range(len(all_data)):\n",
        "#   for data in all_data[i]:\n",
        "#     print(' '.join(data))"
      ]
    },
    {
      "cell_type": "code",
      "execution_count": 240,
      "metadata": {
        "id": "4T5Ig79jEc5r"
      },
      "outputs": [],
      "source": [
        "stories_len = [len(data[0]) for data in all_data]\n",
        "question_len = [len(data[1]) for data in all_data]"
      ]
    },
    {
      "cell_type": "code",
      "execution_count": 241,
      "metadata": {
        "colab": {
          "base_uri": "https://localhost:8080/"
        },
        "id": "jiznzZJsEc8V",
        "outputId": "448fa6fa-769f-442b-a3cf-6d0aff0fefea"
      },
      "outputs": [
        {
          "output_type": "execute_result",
          "data": {
            "text/plain": [
              "156"
            ]
          },
          "metadata": {},
          "execution_count": 241
        }
      ],
      "source": [
        "maxlen_stories = max(stories_len)\n",
        "maxlen_stories"
      ]
    },
    {
      "cell_type": "code",
      "execution_count": 242,
      "metadata": {
        "colab": {
          "base_uri": "https://localhost:8080/"
        },
        "id": "YkVXNr6-Ec_G",
        "outputId": "5de8f472-82bf-45c4-98fe-03c8658cb844"
      },
      "outputs": [
        {
          "output_type": "execute_result",
          "data": {
            "text/plain": [
              "6"
            ]
          },
          "metadata": {},
          "execution_count": 242
        }
      ],
      "source": [
        "maxlen_question = max(question_len)\n",
        "maxlen_question"
      ]
    },
    {
      "cell_type": "code",
      "execution_count": 243,
      "metadata": {
        "id": "wVt9sbYCDxDd"
      },
      "outputs": [],
      "source": [
        "tokenizer = Tokenizer(filters = [])"
      ]
    },
    {
      "cell_type": "code",
      "execution_count": 244,
      "metadata": {
        "id": "915cDs9hOyEk"
      },
      "outputs": [],
      "source": [
        "tokenizer.fit_on_texts(vocab)"
      ]
    },
    {
      "cell_type": "code",
      "execution_count": 245,
      "metadata": {
        "colab": {
          "base_uri": "https://localhost:8080/"
        },
        "id": "_gM0ip5nZzTg",
        "outputId": "dbd9048e-c333-4210-e21a-35abbf757a55"
      },
      "outputs": [
        {
          "output_type": "execute_result",
          "data": {
            "text/plain": [
              "12"
            ]
          },
          "metadata": {},
          "execution_count": 245
        }
      ],
      "source": [
        "tokenizer.word_index['yes']"
      ]
    },
    {
      "cell_type": "code",
      "execution_count": 246,
      "metadata": {
        "colab": {
          "base_uri": "https://localhost:8080/"
        },
        "id": "0vLWCaoXZ338",
        "outputId": "8427684d-31cd-46ef-92cc-49a7d5e9d3f0"
      },
      "outputs": [
        {
          "output_type": "execute_result",
          "data": {
            "text/plain": [
              "29"
            ]
          },
          "metadata": {},
          "execution_count": 246
        }
      ],
      "source": [
        "tokenizer.word_index['no']"
      ]
    },
    {
      "cell_type": "code",
      "execution_count": 247,
      "metadata": {
        "colab": {
          "base_uri": "https://localhost:8080/"
        },
        "id": "BbziwTUUPFV0",
        "outputId": "4b6aa9c5-91a5-4c03-dfd1-b753ab3abef2"
      },
      "outputs": [
        {
          "output_type": "execute_result",
          "data": {
            "text/plain": [
              "{'travelled': 1,\n",
              " 'apple': 2,\n",
              " '?': 3,\n",
              " 'put': 4,\n",
              " 'moved': 5,\n",
              " 'discarded': 6,\n",
              " 'office': 7,\n",
              " 'john': 8,\n",
              " 'bathroom': 9,\n",
              " 'there': 10,\n",
              " 'to': 11,\n",
              " 'yes': 12,\n",
              " 'left': 13,\n",
              " 'journeyed': 14,\n",
              " 'is': 15,\n",
              " '.': 16,\n",
              " 'down': 17,\n",
              " 'football': 18,\n",
              " 'milk': 19,\n",
              " 'garden': 20,\n",
              " 'took': 21,\n",
              " 'got': 22,\n",
              " 'mary': 23,\n",
              " 'hallway': 24,\n",
              " 'went': 25,\n",
              " 'in': 26,\n",
              " 'kitchen': 27,\n",
              " 'grabbed': 28,\n",
              " 'no': 29,\n",
              " 'dropped': 30,\n",
              " 'picked': 31,\n",
              " 'daniel': 32,\n",
              " 'sandra': 33,\n",
              " 'back': 34,\n",
              " 'up': 35,\n",
              " 'the': 36,\n",
              " 'bedroom': 37}"
            ]
          },
          "metadata": {},
          "execution_count": 247
        }
      ],
      "source": [
        "tokenizer.word_index"
      ]
    },
    {
      "cell_type": "code",
      "execution_count": 248,
      "metadata": {
        "id": "cAwCchoaPHRa"
      },
      "outputs": [],
      "source": [
        "train_story_text = []\n",
        "train_question_text = []\n",
        "train_answer_text = []\n",
        "for s,q,a in train_data:\n",
        "  train_story_text.append(s)\n",
        "  train_question_text.append(q)\n",
        "  train_answer_text.append(q)"
      ]
    },
    {
      "cell_type": "code",
      "execution_count": 249,
      "metadata": {
        "id": "tMcHehmXPxhb"
      },
      "outputs": [],
      "source": [
        "# train_story_text"
      ]
    },
    {
      "cell_type": "code",
      "execution_count": 250,
      "metadata": {
        "id": "4GXEG9b_P3hT"
      },
      "outputs": [],
      "source": [
        "train_story_seq = tokenizer.texts_to_sequences(train_story_text)\n",
        "# train_story_seq = np.array(train_story_seq)\n",
        "# train_story_seq"
      ]
    },
    {
      "cell_type": "code",
      "execution_count": 251,
      "metadata": {
        "id": "_g6BzHV6Sctc"
      },
      "outputs": [],
      "source": [
        "def vectorize_stories(data, word_index=tokenizer.word_index, max_story_len=maxlen_stories,max_question_len=maxlen_question):\n",
        "    '''\n",
        "    OUTPUT:\n",
        "    Vectorizes the stories,questions, and answers into padded sequences. We first loop for every story, query , and\n",
        "    answer in the data. Then we convert the raw words to an word index value. Then we append each set to their appropriate\n",
        "    output list. Then once we have converted the words to numbers, we pad the sequences so they are all of equal length.\n",
        "    Returns this in the form of a tuple (X,Xq,Y) (padded based on max lengths)\n",
        "    '''\n",
        "    # X = STORIES\n",
        "    X = []\n",
        "    # Xq = QUERY/QUESTION\n",
        "    Xq = []\n",
        "    # Y = CORRECT ANSWER\n",
        "    Y = []\n",
        "\n",
        "\n",
        "    for story, query, answer in data:\n",
        "\n",
        "        # Grab the word index for every word in story\n",
        "        x = [word_index[word.lower()] for word in story]\n",
        "        xq = [word_index[word.lower()] for word in query]\n",
        "        y = np.zeros(len(word_index) + 1)\n",
        "        y[word_index[answer]] = 1\n",
        "\n",
        "        X.append(x)\n",
        "        Xq.append(xq)\n",
        "        Y.append(y)\n",
        "\n",
        "    return (pad_sequences(X, maxlen=max_story_len),pad_sequences(Xq, maxlen=max_question_len), np.array(Y))"
      ]
    },
    {
      "cell_type": "code",
      "execution_count": 252,
      "metadata": {
        "id": "h274ywkRY6S0"
      },
      "outputs": [],
      "source": [
        "inputs_train, queries_train, answers_train = vectorize_stories(train_data)\n",
        "inputs_test, queries_test, answers_test = vectorize_stories(test_data)"
      ]
    },
    {
      "cell_type": "code",
      "execution_count": 253,
      "metadata": {
        "id": "4v8s72fsaMVz"
      },
      "outputs": [],
      "source": [
        "import keras.layers\n",
        "from keras.models import Sequential, Model\n",
        "from keras.layers import Embedding,Input, Activation, Dense, Permute, Dropout,add, dot, concatenate,LSTM"
      ]
    },
    {
      "cell_type": "code",
      "execution_count": 254,
      "metadata": {
        "colab": {
          "base_uri": "https://localhost:8080/"
        },
        "id": "xNVCEfUNeT4_",
        "outputId": "e8325105-ce43-4bda-be2b-16b2963bf1c8"
      },
      "outputs": [
        {
          "output_type": "execute_result",
          "data": {
            "text/plain": [
              "<KerasTensor: shape=(None, 6) dtype=float32 (created by layer 'input_10')>"
            ]
          },
          "metadata": {},
          "execution_count": 254
        }
      ],
      "source": [
        "input_sequence = Input((maxlen_stories,))\n",
        "question_sequence = Input((maxlen_question,))\n",
        "question_sequence"
      ]
    },
    {
      "cell_type": "markdown",
      "source": [
        "### input encoder M"
      ],
      "metadata": {
        "id": "Smh5NXventeA"
      }
    },
    {
      "cell_type": "code",
      "source": [
        "# Input gets embedded to a sequence of vectors\n",
        "input_encoder_m = Sequential()\n",
        "input_encoder_m.add(Embedding(input_dim=vocab_len,output_dim=64))\n",
        "input_encoder_m.add(Dropout(0.5))\n",
        "\n",
        "# This encoder will output:\n",
        "# (samples, story_maxlen, embedding_dim)"
      ],
      "metadata": {
        "id": "rcHDMBfUmPz9"
      },
      "execution_count": 255,
      "outputs": []
    },
    {
      "cell_type": "markdown",
      "source": [],
      "metadata": {
        "id": "e7_Cq4ZEn0GA"
      }
    },
    {
      "cell_type": "markdown",
      "source": [
        "### input encoder C"
      ],
      "metadata": {
        "id": "eMGP8iEJn0p2"
      }
    },
    {
      "cell_type": "code",
      "source": [
        "# embed the input into a sequence of vectors of size query_maxlen\n",
        "input_encoder_c = Sequential()\n",
        "input_encoder_c.add(Embedding(input_dim=vocab_len,output_dim=maxlen_question))\n",
        "input_encoder_c.add(Dropout(0.5))\n",
        "# output: (samples, story_maxlen, query_maxlen)"
      ],
      "metadata": {
        "id": "K3F8nKwnmjEg"
      },
      "execution_count": 256,
      "outputs": []
    },
    {
      "cell_type": "markdown",
      "source": [
        "### question encoder\n"
      ],
      "metadata": {
        "id": "WrJZO5z6n5d_"
      }
    },
    {
      "cell_type": "code",
      "source": [
        "# embed the question into a sequence of vectors\n",
        "question_encoder = Sequential()\n",
        "question_encoder.add(Embedding(input_dim=vocab_len,\n",
        "                               output_dim=64,\n",
        "                               input_length=maxlen_question))\n",
        "question_encoder.add(Dropout(0.5))\n",
        "# output: (samples, query_maxlen, embedding_dim)"
      ],
      "metadata": {
        "id": "dStoipFhnUAv"
      },
      "execution_count": 257,
      "outputs": []
    },
    {
      "cell_type": "code",
      "source": [
        "# encode input sequence and questions (which are indices)\n",
        "# to sequences of dense vectors\n",
        "input_encoded_m = input_encoder_m(input_sequence)\n",
        "input_encoded_c = input_encoder_c(input_sequence)\n",
        "question_encoded = question_encoder(question_sequence)"
      ],
      "metadata": {
        "id": "qsyRNle0oCQm"
      },
      "execution_count": 258,
      "outputs": []
    },
    {
      "cell_type": "code",
      "source": [
        "match = dot([input_encoded_m, question_encoded], axes=(2, 2))\n",
        "match = Activation('softmax')(match)"
      ],
      "metadata": {
        "id": "KyaYx0lxoYCW"
      },
      "execution_count": 259,
      "outputs": []
    },
    {
      "cell_type": "code",
      "source": [
        "# add the match matrix with the second input vector sequence\n",
        "response = add([match, input_encoded_c])  # (samples, story_maxlen, query_maxlen)\n",
        "response = Permute((2, 1))(response)  # (samples, query_maxlen, story_maxlen)"
      ],
      "metadata": {
        "id": "q1VnfAh_onKX"
      },
      "execution_count": 260,
      "outputs": []
    },
    {
      "cell_type": "code",
      "source": [
        "# concatenate the match matrix with the question vector sequence\n",
        "answer = concatenate([response, question_encoded])\n",
        "answer"
      ],
      "metadata": {
        "colab": {
          "base_uri": "https://localhost:8080/"
        },
        "id": "s_mlcg2novDS",
        "outputId": "90dfa837-7195-431d-f4bc-513e3f22b512"
      },
      "execution_count": 261,
      "outputs": [
        {
          "output_type": "execute_result",
          "data": {
            "text/plain": [
              "<KerasTensor: shape=(None, 6, 220) dtype=float32 (created by layer 'concatenate_3')>"
            ]
          },
          "metadata": {},
          "execution_count": 261
        }
      ]
    },
    {
      "cell_type": "code",
      "source": [
        "# Reduce with RNN (LSTM)\n",
        "answer = LSTM(32)(answer)  # (samples, 32)\n",
        "# Regularization with Dropout\n",
        "answer = Dropout(0.5)(answer)\n",
        "answer = Dense(vocab_len)(answer)  # (samples, vocab_size)\n",
        "# probability distribution over the vocabulary\n",
        "answer = Activation('softmax')(answer)"
      ],
      "metadata": {
        "id": "tV2f9m1bo1Oa"
      },
      "execution_count": 262,
      "outputs": []
    },
    {
      "cell_type": "code",
      "source": [
        "model = Model([input_sequence, question_sequence], answer)\n",
        "model.compile(optimizer='rmsprop', loss='categorical_crossentropy',\n",
        "              metrics=['accuracy'])"
      ],
      "metadata": {
        "id": "cjQcVtLFo1s2"
      },
      "execution_count": 263,
      "outputs": []
    },
    {
      "cell_type": "code",
      "source": [
        "model.summary()"
      ],
      "metadata": {
        "colab": {
          "base_uri": "https://localhost:8080/"
        },
        "id": "nVunDCx-pKY9",
        "outputId": "ae821a2e-1536-4400-a5d6-da7b29eff02b"
      },
      "execution_count": 264,
      "outputs": [
        {
          "output_type": "stream",
          "name": "stdout",
          "text": [
            "Model: \"model_3\"\n",
            "__________________________________________________________________________________________________\n",
            " Layer (type)                Output Shape                 Param #   Connected to                  \n",
            "==================================================================================================\n",
            " input_9 (InputLayer)        [(None, 156)]                0         []                            \n",
            "                                                                                                  \n",
            " input_10 (InputLayer)       [(None, 6)]                  0         []                            \n",
            "                                                                                                  \n",
            " sequential_12 (Sequential)  (None, None, 64)             2432      ['input_9[0][0]']             \n",
            "                                                                                                  \n",
            " sequential_14 (Sequential)  (None, 6, 64)                2432      ['input_10[0][0]']            \n",
            "                                                                                                  \n",
            " dot_2 (Dot)                 (None, 156, 6)               0         ['sequential_12[0][0]',       \n",
            "                                                                     'sequential_14[0][0]']       \n",
            "                                                                                                  \n",
            " activation_4 (Activation)   (None, 156, 6)               0         ['dot_2[0][0]']               \n",
            "                                                                                                  \n",
            " sequential_13 (Sequential)  (None, None, 6)              228       ['input_9[0][0]']             \n",
            "                                                                                                  \n",
            " add_2 (Add)                 (None, 156, 6)               0         ['activation_4[0][0]',        \n",
            "                                                                     'sequential_13[0][0]']       \n",
            "                                                                                                  \n",
            " permute_2 (Permute)         (None, 6, 156)               0         ['add_2[0][0]']               \n",
            "                                                                                                  \n",
            " concatenate_3 (Concatenate  (None, 6, 220)               0         ['permute_2[0][0]',           \n",
            " )                                                                   'sequential_14[0][0]']       \n",
            "                                                                                                  \n",
            " lstm_6 (LSTM)               (None, 32)                   32384     ['concatenate_3[0][0]']       \n",
            "                                                                                                  \n",
            " dropout_15 (Dropout)        (None, 32)                   0         ['lstm_6[0][0]']              \n",
            "                                                                                                  \n",
            " dense_4 (Dense)             (None, 38)                   1254      ['dropout_15[0][0]']          \n",
            "                                                                                                  \n",
            " activation_5 (Activation)   (None, 38)                   0         ['dense_4[0][0]']             \n",
            "                                                                                                  \n",
            "==================================================================================================\n",
            "Total params: 38730 (151.29 KB)\n",
            "Trainable params: 38730 (151.29 KB)\n",
            "Non-trainable params: 0 (0.00 Byte)\n",
            "__________________________________________________________________________________________________\n"
          ]
        }
      ]
    },
    {
      "cell_type": "code",
      "source": [
        "model.fit([inputs_train, queries_train], answers_train,batch_size=32,epochs=100,validation_data=([inputs_test, queries_test], answers_test))"
      ],
      "metadata": {
        "colab": {
          "base_uri": "https://localhost:8080/"
        },
        "id": "NNbqw6MOpkHK",
        "outputId": "16aa28e2-43d1-4816-c7be-e2739fb4712b"
      },
      "execution_count": 265,
      "outputs": [
        {
          "output_type": "stream",
          "name": "stdout",
          "text": [
            "Epoch 1/100\n",
            "313/313 [==============================] - 5s 9ms/step - loss: 0.8663 - accuracy: 0.4928 - val_loss: 0.6941 - val_accuracy: 0.5030\n",
            "Epoch 2/100\n",
            "313/313 [==============================] - 2s 6ms/step - loss: 0.7035 - accuracy: 0.5005 - val_loss: 0.6934 - val_accuracy: 0.4970\n",
            "Epoch 3/100\n",
            "313/313 [==============================] - 2s 6ms/step - loss: 0.6969 - accuracy: 0.4992 - val_loss: 0.6935 - val_accuracy: 0.4970\n",
            "Epoch 4/100\n",
            "313/313 [==============================] - 2s 7ms/step - loss: 0.6971 - accuracy: 0.4894 - val_loss: 0.6933 - val_accuracy: 0.5030\n",
            "Epoch 5/100\n",
            "313/313 [==============================] - 3s 9ms/step - loss: 0.6957 - accuracy: 0.4986 - val_loss: 0.6945 - val_accuracy: 0.4970\n",
            "Epoch 6/100\n",
            "313/313 [==============================] - 2s 6ms/step - loss: 0.6956 - accuracy: 0.4967 - val_loss: 0.6948 - val_accuracy: 0.4970\n",
            "Epoch 7/100\n",
            "313/313 [==============================] - 2s 7ms/step - loss: 0.6954 - accuracy: 0.4975 - val_loss: 0.6934 - val_accuracy: 0.5030\n",
            "Epoch 8/100\n",
            "313/313 [==============================] - 2s 7ms/step - loss: 0.6955 - accuracy: 0.5000 - val_loss: 0.6933 - val_accuracy: 0.4970\n",
            "Epoch 9/100\n",
            "313/313 [==============================] - 2s 6ms/step - loss: 0.6954 - accuracy: 0.5008 - val_loss: 0.6934 - val_accuracy: 0.4970\n",
            "Epoch 10/100\n",
            "313/313 [==============================] - 2s 7ms/step - loss: 0.6953 - accuracy: 0.5079 - val_loss: 0.6938 - val_accuracy: 0.4970\n",
            "Epoch 11/100\n",
            "313/313 [==============================] - 3s 9ms/step - loss: 0.6951 - accuracy: 0.4962 - val_loss: 0.6944 - val_accuracy: 0.5030\n",
            "Epoch 12/100\n",
            "313/313 [==============================] - 2s 6ms/step - loss: 0.6948 - accuracy: 0.4989 - val_loss: 0.6947 - val_accuracy: 0.5030\n",
            "Epoch 13/100\n",
            "313/313 [==============================] - 2s 6ms/step - loss: 0.6954 - accuracy: 0.4983 - val_loss: 0.6938 - val_accuracy: 0.5030\n",
            "Epoch 14/100\n",
            "313/313 [==============================] - 2s 6ms/step - loss: 0.6952 - accuracy: 0.5055 - val_loss: 0.6934 - val_accuracy: 0.4970\n",
            "Epoch 15/100\n",
            "313/313 [==============================] - 2s 6ms/step - loss: 0.6950 - accuracy: 0.4994 - val_loss: 0.6934 - val_accuracy: 0.5030\n",
            "Epoch 16/100\n",
            "313/313 [==============================] - 2s 6ms/step - loss: 0.6954 - accuracy: 0.4968 - val_loss: 0.6933 - val_accuracy: 0.4970\n",
            "Epoch 17/100\n",
            "313/313 [==============================] - 3s 10ms/step - loss: 0.6949 - accuracy: 0.5034 - val_loss: 0.6949 - val_accuracy: 0.5030\n",
            "Epoch 18/100\n",
            "313/313 [==============================] - 2s 6ms/step - loss: 0.6955 - accuracy: 0.4921 - val_loss: 0.6942 - val_accuracy: 0.5030\n",
            "Epoch 19/100\n",
            "313/313 [==============================] - 2s 6ms/step - loss: 0.6952 - accuracy: 0.4993 - val_loss: 0.6959 - val_accuracy: 0.5030\n",
            "Epoch 20/100\n",
            "313/313 [==============================] - 2s 6ms/step - loss: 0.6950 - accuracy: 0.5013 - val_loss: 0.6932 - val_accuracy: 0.5030\n",
            "Epoch 21/100\n",
            "313/313 [==============================] - 2s 6ms/step - loss: 0.6946 - accuracy: 0.5087 - val_loss: 0.6944 - val_accuracy: 0.4970\n",
            "Epoch 22/100\n",
            "313/313 [==============================] - 2s 6ms/step - loss: 0.6951 - accuracy: 0.5049 - val_loss: 0.6936 - val_accuracy: 0.4970\n",
            "Epoch 23/100\n",
            "313/313 [==============================] - 3s 9ms/step - loss: 0.6955 - accuracy: 0.4983 - val_loss: 0.6936 - val_accuracy: 0.4970\n",
            "Epoch 24/100\n",
            "313/313 [==============================] - 2s 6ms/step - loss: 0.6950 - accuracy: 0.4979 - val_loss: 0.6941 - val_accuracy: 0.4970\n",
            "Epoch 25/100\n",
            "313/313 [==============================] - 2s 6ms/step - loss: 0.6950 - accuracy: 0.5015 - val_loss: 0.6931 - val_accuracy: 0.5030\n",
            "Epoch 26/100\n",
            "313/313 [==============================] - 2s 6ms/step - loss: 0.6955 - accuracy: 0.4977 - val_loss: 0.6935 - val_accuracy: 0.4970\n",
            "Epoch 27/100\n",
            "313/313 [==============================] - 2s 7ms/step - loss: 0.6949 - accuracy: 0.5011 - val_loss: 0.6934 - val_accuracy: 0.5030\n",
            "Epoch 28/100\n",
            "313/313 [==============================] - 2s 7ms/step - loss: 0.6951 - accuracy: 0.4996 - val_loss: 0.6935 - val_accuracy: 0.4970\n",
            "Epoch 29/100\n",
            "313/313 [==============================] - 3s 9ms/step - loss: 0.6950 - accuracy: 0.5016 - val_loss: 0.6938 - val_accuracy: 0.5030\n",
            "Epoch 30/100\n",
            "313/313 [==============================] - 2s 7ms/step - loss: 0.6953 - accuracy: 0.4953 - val_loss: 0.6933 - val_accuracy: 0.5030\n",
            "Epoch 31/100\n",
            "313/313 [==============================] - 2s 7ms/step - loss: 0.6951 - accuracy: 0.4907 - val_loss: 0.6932 - val_accuracy: 0.4970\n",
            "Epoch 32/100\n",
            "313/313 [==============================] - 2s 6ms/step - loss: 0.6946 - accuracy: 0.5062 - val_loss: 0.6938 - val_accuracy: 0.5030\n",
            "Epoch 33/100\n",
            "313/313 [==============================] - 2s 6ms/step - loss: 0.6945 - accuracy: 0.5122 - val_loss: 0.6931 - val_accuracy: 0.5030\n",
            "Epoch 34/100\n",
            "313/313 [==============================] - 2s 7ms/step - loss: 0.6955 - accuracy: 0.4983 - val_loss: 0.6932 - val_accuracy: 0.5030\n",
            "Epoch 35/100\n",
            "313/313 [==============================] - 3s 9ms/step - loss: 0.6947 - accuracy: 0.5059 - val_loss: 0.6934 - val_accuracy: 0.4970\n",
            "Epoch 36/100\n",
            "313/313 [==============================] - 2s 6ms/step - loss: 0.6948 - accuracy: 0.5037 - val_loss: 0.6941 - val_accuracy: 0.4970\n",
            "Epoch 37/100\n",
            "313/313 [==============================] - 2s 6ms/step - loss: 0.6950 - accuracy: 0.4995 - val_loss: 0.6933 - val_accuracy: 0.4970\n",
            "Epoch 38/100\n",
            "313/313 [==============================] - 2s 6ms/step - loss: 0.6948 - accuracy: 0.4973 - val_loss: 0.6940 - val_accuracy: 0.5030\n",
            "Epoch 39/100\n",
            "313/313 [==============================] - 2s 6ms/step - loss: 0.6951 - accuracy: 0.4971 - val_loss: 0.6938 - val_accuracy: 0.4970\n",
            "Epoch 40/100\n",
            "313/313 [==============================] - 4s 12ms/step - loss: 0.6950 - accuracy: 0.4958 - val_loss: 0.6984 - val_accuracy: 0.4970\n",
            "Epoch 41/100\n",
            "313/313 [==============================] - 4s 13ms/step - loss: 0.6952 - accuracy: 0.4951 - val_loss: 0.6959 - val_accuracy: 0.4970\n",
            "Epoch 42/100\n",
            "313/313 [==============================] - 2s 6ms/step - loss: 0.6953 - accuracy: 0.4968 - val_loss: 0.6936 - val_accuracy: 0.5030\n",
            "Epoch 43/100\n",
            "313/313 [==============================] - 2s 6ms/step - loss: 0.6944 - accuracy: 0.5050 - val_loss: 0.6934 - val_accuracy: 0.5030\n",
            "Epoch 44/100\n",
            "313/313 [==============================] - 2s 6ms/step - loss: 0.6953 - accuracy: 0.4916 - val_loss: 0.6938 - val_accuracy: 0.4970\n",
            "Epoch 45/100\n",
            "313/313 [==============================] - 2s 7ms/step - loss: 0.6950 - accuracy: 0.4938 - val_loss: 0.6967 - val_accuracy: 0.4970\n",
            "Epoch 46/100\n",
            "313/313 [==============================] - 3s 9ms/step - loss: 0.6947 - accuracy: 0.4969 - val_loss: 0.6932 - val_accuracy: 0.5030\n",
            "Epoch 47/100\n",
            "313/313 [==============================] - 2s 6ms/step - loss: 0.6949 - accuracy: 0.5039 - val_loss: 0.6931 - val_accuracy: 0.5030\n",
            "Epoch 48/100\n",
            "313/313 [==============================] - 2s 7ms/step - loss: 0.6948 - accuracy: 0.4975 - val_loss: 0.6949 - val_accuracy: 0.4970\n",
            "Epoch 49/100\n",
            "313/313 [==============================] - 2s 7ms/step - loss: 0.6951 - accuracy: 0.4978 - val_loss: 0.6950 - val_accuracy: 0.4970\n",
            "Epoch 50/100\n",
            "313/313 [==============================] - 2s 7ms/step - loss: 0.6948 - accuracy: 0.5011 - val_loss: 0.6932 - val_accuracy: 0.5030\n",
            "Epoch 51/100\n",
            "313/313 [==============================] - 2s 7ms/step - loss: 0.6945 - accuracy: 0.5068 - val_loss: 0.6933 - val_accuracy: 0.4990\n",
            "Epoch 52/100\n",
            "313/313 [==============================] - 3s 9ms/step - loss: 0.6945 - accuracy: 0.5048 - val_loss: 0.6927 - val_accuracy: 0.5060\n",
            "Epoch 53/100\n",
            "313/313 [==============================] - 2s 6ms/step - loss: 0.6943 - accuracy: 0.5048 - val_loss: 0.6950 - val_accuracy: 0.5030\n",
            "Epoch 54/100\n",
            "313/313 [==============================] - 2s 6ms/step - loss: 0.6945 - accuracy: 0.5064 - val_loss: 0.6947 - val_accuracy: 0.4970\n",
            "Epoch 55/100\n",
            "313/313 [==============================] - 2s 6ms/step - loss: 0.6939 - accuracy: 0.5156 - val_loss: 0.6928 - val_accuracy: 0.5060\n",
            "Epoch 56/100\n",
            "313/313 [==============================] - 2s 6ms/step - loss: 0.6940 - accuracy: 0.5133 - val_loss: 0.6962 - val_accuracy: 0.4970\n",
            "Epoch 57/100\n",
            "313/313 [==============================] - 2s 7ms/step - loss: 0.6950 - accuracy: 0.5007 - val_loss: 0.6953 - val_accuracy: 0.4960\n",
            "Epoch 58/100\n",
            "313/313 [==============================] - 3s 9ms/step - loss: 0.6945 - accuracy: 0.5012 - val_loss: 0.6927 - val_accuracy: 0.5260\n",
            "Epoch 59/100\n",
            "313/313 [==============================] - 2s 6ms/step - loss: 0.6934 - accuracy: 0.5121 - val_loss: 0.6922 - val_accuracy: 0.5140\n",
            "Epoch 60/100\n",
            "313/313 [==============================] - 2s 6ms/step - loss: 0.6937 - accuracy: 0.5087 - val_loss: 0.6935 - val_accuracy: 0.4980\n",
            "Epoch 61/100\n",
            "313/313 [==============================] - 2s 7ms/step - loss: 0.6939 - accuracy: 0.5072 - val_loss: 0.6928 - val_accuracy: 0.5140\n",
            "Epoch 62/100\n",
            "313/313 [==============================] - 2s 6ms/step - loss: 0.6922 - accuracy: 0.5123 - val_loss: 0.6901 - val_accuracy: 0.5620\n",
            "Epoch 63/100\n",
            "313/313 [==============================] - 2s 7ms/step - loss: 0.6901 - accuracy: 0.5188 - val_loss: 0.6859 - val_accuracy: 0.5570\n",
            "Epoch 64/100\n",
            "313/313 [==============================] - 3s 9ms/step - loss: 0.6864 - accuracy: 0.5361 - val_loss: 0.6767 - val_accuracy: 0.5700\n",
            "Epoch 65/100\n",
            "313/313 [==============================] - 2s 7ms/step - loss: 0.6780 - accuracy: 0.5588 - val_loss: 0.6672 - val_accuracy: 0.5720\n",
            "Epoch 66/100\n",
            "313/313 [==============================] - 2s 6ms/step - loss: 0.6644 - accuracy: 0.5840 - val_loss: 0.6365 - val_accuracy: 0.6090\n",
            "Epoch 67/100\n",
            "313/313 [==============================] - 2s 6ms/step - loss: 0.6520 - accuracy: 0.6179 - val_loss: 0.6206 - val_accuracy: 0.6670\n",
            "Epoch 68/100\n",
            "313/313 [==============================] - 2s 6ms/step - loss: 0.6438 - accuracy: 0.6397 - val_loss: 0.6101 - val_accuracy: 0.6850\n",
            "Epoch 69/100\n",
            "313/313 [==============================] - 2s 7ms/step - loss: 0.6337 - accuracy: 0.6470 - val_loss: 0.6068 - val_accuracy: 0.6760\n",
            "Epoch 70/100\n",
            "313/313 [==============================] - 3s 9ms/step - loss: 0.6261 - accuracy: 0.6546 - val_loss: 0.5983 - val_accuracy: 0.6780\n",
            "Epoch 71/100\n",
            "313/313 [==============================] - 2s 7ms/step - loss: 0.6257 - accuracy: 0.6509 - val_loss: 0.5974 - val_accuracy: 0.6910\n",
            "Epoch 72/100\n",
            "313/313 [==============================] - 2s 6ms/step - loss: 0.6263 - accuracy: 0.6563 - val_loss: 0.5942 - val_accuracy: 0.6970\n",
            "Epoch 73/100\n",
            "313/313 [==============================] - 2s 6ms/step - loss: 0.6212 - accuracy: 0.6597 - val_loss: 0.5881 - val_accuracy: 0.6830\n",
            "Epoch 74/100\n",
            "313/313 [==============================] - 2s 6ms/step - loss: 0.6209 - accuracy: 0.6669 - val_loss: 0.5830 - val_accuracy: 0.6960\n",
            "Epoch 75/100\n",
            "313/313 [==============================] - 2s 6ms/step - loss: 0.6107 - accuracy: 0.6729 - val_loss: 0.5786 - val_accuracy: 0.6970\n",
            "Epoch 76/100\n",
            "313/313 [==============================] - 3s 9ms/step - loss: 0.6083 - accuracy: 0.6715 - val_loss: 0.5671 - val_accuracy: 0.7200\n",
            "Epoch 77/100\n",
            "313/313 [==============================] - 2s 7ms/step - loss: 0.6000 - accuracy: 0.6900 - val_loss: 0.5530 - val_accuracy: 0.7230\n",
            "Epoch 78/100\n",
            "313/313 [==============================] - 2s 6ms/step - loss: 0.5878 - accuracy: 0.6983 - val_loss: 0.5508 - val_accuracy: 0.7200\n",
            "Epoch 79/100\n",
            "313/313 [==============================] - 2s 6ms/step - loss: 0.5777 - accuracy: 0.7105 - val_loss: 0.5227 - val_accuracy: 0.7410\n",
            "Epoch 80/100\n",
            "313/313 [==============================] - 2s 7ms/step - loss: 0.5657 - accuracy: 0.7214 - val_loss: 0.5152 - val_accuracy: 0.7430\n",
            "Epoch 81/100\n",
            "313/313 [==============================] - 2s 6ms/step - loss: 0.5490 - accuracy: 0.7282 - val_loss: 0.5096 - val_accuracy: 0.7550\n",
            "Epoch 82/100\n",
            "313/313 [==============================] - 3s 9ms/step - loss: 0.5391 - accuracy: 0.7401 - val_loss: 0.4828 - val_accuracy: 0.7790\n",
            "Epoch 83/100\n",
            "313/313 [==============================] - 2s 7ms/step - loss: 0.5328 - accuracy: 0.7447 - val_loss: 0.4826 - val_accuracy: 0.7700\n",
            "Epoch 84/100\n",
            "313/313 [==============================] - 2s 6ms/step - loss: 0.5220 - accuracy: 0.7557 - val_loss: 0.4612 - val_accuracy: 0.7980\n",
            "Epoch 85/100\n",
            "313/313 [==============================] - 2s 6ms/step - loss: 0.5082 - accuracy: 0.7671 - val_loss: 0.4536 - val_accuracy: 0.7960\n",
            "Epoch 86/100\n",
            "313/313 [==============================] - 2s 7ms/step - loss: 0.4942 - accuracy: 0.7746 - val_loss: 0.4477 - val_accuracy: 0.7980\n",
            "Epoch 87/100\n",
            "313/313 [==============================] - 2s 6ms/step - loss: 0.4790 - accuracy: 0.7866 - val_loss: 0.4323 - val_accuracy: 0.8140\n",
            "Epoch 88/100\n",
            "313/313 [==============================] - 3s 8ms/step - loss: 0.4660 - accuracy: 0.7928 - val_loss: 0.4198 - val_accuracy: 0.8170\n",
            "Epoch 89/100\n",
            "313/313 [==============================] - 2s 7ms/step - loss: 0.4630 - accuracy: 0.7983 - val_loss: 0.4387 - val_accuracy: 0.8000\n",
            "Epoch 90/100\n",
            "313/313 [==============================] - 2s 6ms/step - loss: 0.4528 - accuracy: 0.8086 - val_loss: 0.4269 - val_accuracy: 0.8110\n",
            "Epoch 91/100\n",
            "313/313 [==============================] - 2s 7ms/step - loss: 0.4389 - accuracy: 0.8109 - val_loss: 0.4227 - val_accuracy: 0.7990\n",
            "Epoch 92/100\n",
            "313/313 [==============================] - 2s 6ms/step - loss: 0.4273 - accuracy: 0.8153 - val_loss: 0.4111 - val_accuracy: 0.8060\n",
            "Epoch 93/100\n",
            "313/313 [==============================] - 2s 6ms/step - loss: 0.4201 - accuracy: 0.8197 - val_loss: 0.3917 - val_accuracy: 0.8210\n",
            "Epoch 94/100\n",
            "313/313 [==============================] - 3s 8ms/step - loss: 0.4118 - accuracy: 0.8255 - val_loss: 0.3949 - val_accuracy: 0.8260\n",
            "Epoch 95/100\n",
            "313/313 [==============================] - 2s 7ms/step - loss: 0.4107 - accuracy: 0.8253 - val_loss: 0.3855 - val_accuracy: 0.8280\n",
            "Epoch 96/100\n",
            "313/313 [==============================] - 2s 6ms/step - loss: 0.4000 - accuracy: 0.8289 - val_loss: 0.3899 - val_accuracy: 0.8140\n",
            "Epoch 97/100\n",
            "313/313 [==============================] - 2s 6ms/step - loss: 0.3959 - accuracy: 0.8297 - val_loss: 0.3697 - val_accuracy: 0.8250\n",
            "Epoch 98/100\n",
            "313/313 [==============================] - 2s 6ms/step - loss: 0.3904 - accuracy: 0.8344 - val_loss: 0.3815 - val_accuracy: 0.8210\n",
            "Epoch 99/100\n",
            "313/313 [==============================] - 2s 7ms/step - loss: 0.3828 - accuracy: 0.8358 - val_loss: 0.3842 - val_accuracy: 0.8190\n",
            "Epoch 100/100\n",
            "313/313 [==============================] - 3s 8ms/step - loss: 0.3839 - accuracy: 0.8357 - val_loss: 0.3595 - val_accuracy: 0.8350\n"
          ]
        },
        {
          "output_type": "execute_result",
          "data": {
            "text/plain": [
              "<keras.src.callbacks.History at 0x7a0a75656aa0>"
            ]
          },
          "metadata": {},
          "execution_count": 265
        }
      ]
    },
    {
      "cell_type": "code",
      "source": [
        "filename = 'chatbot.h5'\n",
        "model.save(filename)"
      ],
      "metadata": {
        "colab": {
          "base_uri": "https://localhost:8080/"
        },
        "id": "aZQvmx-Xp_5i",
        "outputId": "586c2ac8-b317-4c62-b919-f6ef13947b77"
      },
      "execution_count": 266,
      "outputs": [
        {
          "output_type": "stream",
          "name": "stderr",
          "text": [
            "/usr/local/lib/python3.10/dist-packages/keras/src/engine/training.py:3103: UserWarning: You are saving your model as an HDF5 file via `model.save()`. This file format is considered legacy. We recommend using instead the native Keras format, e.g. `model.save('my_model.keras')`.\n",
            "  saving_api.save_model(\n"
          ]
        }
      ]
    },
    {
      "cell_type": "code",
      "source": [
        "model.load_weights(filename)\n",
        "pred_results = model.predict(([inputs_test, queries_test]))"
      ],
      "metadata": {
        "colab": {
          "base_uri": "https://localhost:8080/"
        },
        "id": "0McX4E5_qI3I",
        "outputId": "b063e3f9-3aad-4138-8737-1b95f259940d"
      },
      "execution_count": 267,
      "outputs": [
        {
          "output_type": "stream",
          "name": "stdout",
          "text": [
            "32/32 [==============================] - 0s 2ms/step\n"
          ]
        }
      ]
    },
    {
      "cell_type": "code",
      "source": [
        "story =' '.join(word for word in test_data[1][0])\n",
        "print(story)"
      ],
      "metadata": {
        "colab": {
          "base_uri": "https://localhost:8080/"
        },
        "id": "hM4r81HTqapG",
        "outputId": "9a0d6c7b-a6a9-49bf-97ed-74404501ce87"
      },
      "execution_count": 268,
      "outputs": [
        {
          "output_type": "stream",
          "name": "stdout",
          "text": [
            "Mary got the milk there . John moved to the bedroom . Mary discarded the milk . John went to the garden .\n"
          ]
        }
      ]
    },
    {
      "cell_type": "code",
      "source": [
        "query = ' '.join(word for word in test_data[1][1])\n",
        "print(query)"
      ],
      "metadata": {
        "colab": {
          "base_uri": "https://localhost:8080/"
        },
        "id": "2--gvqFZqkiB",
        "outputId": "f0bf3ef2-c8fb-4764-b882-8be25d38118f"
      },
      "execution_count": 269,
      "outputs": [
        {
          "output_type": "stream",
          "name": "stdout",
          "text": [
            "Is John in the kitchen ?\n"
          ]
        }
      ]
    },
    {
      "cell_type": "code",
      "source": [
        "print(\"Answer is:\",test_data[1][2])"
      ],
      "metadata": {
        "colab": {
          "base_uri": "https://localhost:8080/"
        },
        "id": "mRo3iI-dqkrS",
        "outputId": "4cca8335-fb75-48f0-b442-4ccdb5e8ba4b"
      },
      "execution_count": 270,
      "outputs": [
        {
          "output_type": "stream",
          "name": "stdout",
          "text": [
            "Answer is: no\n"
          ]
        }
      ]
    },
    {
      "cell_type": "code",
      "source": [
        "val_max = np.argmax(pred_results[0])\n",
        "\n",
        "for key, val in tokenizer.word_index.items():\n",
        "    if val == val_max:\n",
        "        k = key\n",
        "\n",
        "print(\"Predicted answer is: \", k)\n",
        "print(\"Probability of certainty was: \", pred_results[0][val_max])"
      ],
      "metadata": {
        "colab": {
          "base_uri": "https://localhost:8080/"
        },
        "id": "51u6iVm6qyUk",
        "outputId": "28ee6279-73bf-4ce2-a867-c01bbab7b407"
      },
      "execution_count": 271,
      "outputs": [
        {
          "output_type": "stream",
          "name": "stdout",
          "text": [
            "Predicted answer is:  no\n",
            "Probability of certainty was:  0.99700576\n"
          ]
        }
      ]
    },
    {
      "cell_type": "code",
      "source": [
        "my_story = \"John left the kitchen . Sandra dropped the football in the garden .\"\n",
        "my_story.split()"
      ],
      "metadata": {
        "colab": {
          "base_uri": "https://localhost:8080/"
        },
        "id": "BVn69ZgjrY0_",
        "outputId": "7e64520e-ea2b-4536-d605-089f7e1e1483"
      },
      "execution_count": 272,
      "outputs": [
        {
          "output_type": "execute_result",
          "data": {
            "text/plain": [
              "['John',\n",
              " 'left',\n",
              " 'the',\n",
              " 'kitchen',\n",
              " '.',\n",
              " 'Sandra',\n",
              " 'dropped',\n",
              " 'the',\n",
              " 'football',\n",
              " 'in',\n",
              " 'the',\n",
              " 'garden',\n",
              " '.']"
            ]
          },
          "metadata": {},
          "execution_count": 272
        }
      ]
    },
    {
      "cell_type": "code",
      "source": [
        "my_question = \"is sandra in the kitchen ?\"\n",
        "my_question.split()"
      ],
      "metadata": {
        "colab": {
          "base_uri": "https://localhost:8080/"
        },
        "id": "gBjhHpf-rcHg",
        "outputId": "e3167f79-777f-4217-d6ad-a292eeb060d8"
      },
      "execution_count": 273,
      "outputs": [
        {
          "output_type": "execute_result",
          "data": {
            "text/plain": [
              "['is', 'sandra', 'in', 'the', 'kitchen', '?']"
            ]
          },
          "metadata": {},
          "execution_count": 273
        }
      ]
    },
    {
      "cell_type": "code",
      "source": [
        "mydata = [(my_story.split(),my_question.split(),)]"
      ],
      "metadata": {
        "id": "FcBPAmUKrnDy"
      },
      "execution_count": 274,
      "outputs": []
    },
    {
      "cell_type": "code",
      "source": [
        "my_story,my_ques,my_ans = vectorize_stories(mydata)"
      ],
      "metadata": {
        "id": "JeCYgPH2rtLu"
      },
      "execution_count": 275,
      "outputs": []
    },
    {
      "cell_type": "code",
      "source": [
        "pred_results = model.predict(([ my_story, my_ques]))\n",
        "pred_results"
      ],
      "metadata": {
        "colab": {
          "base_uri": "https://localhost:8080/"
        },
        "id": "4QFrrFWbrzW-",
        "outputId": "ec107172-2b9e-4c1a-a41c-0bebfa1aff7f"
      },
      "execution_count": 276,
      "outputs": [
        {
          "output_type": "stream",
          "name": "stdout",
          "text": [
            "1/1 [==============================] - 0s 19ms/step\n"
          ]
        },
        {
          "output_type": "execute_result",
          "data": {
            "text/plain": [
              "array([[5.5883888e-08, 5.1987968e-08, 3.6268123e-08, 4.9672881e-08,\n",
              "        6.5013417e-08, 4.9620606e-08, 5.1467431e-08, 5.7577164e-08,\n",
              "        5.5401742e-08, 4.7160668e-08, 5.4266479e-08, 4.1170370e-08,\n",
              "        1.2862320e-02, 6.0764677e-08, 4.6846345e-08, 4.8501114e-08,\n",
              "        5.9824323e-08, 3.4170192e-08, 5.8537893e-08, 4.7336492e-08,\n",
              "        5.1248204e-08, 4.9300713e-08, 4.9333444e-08, 6.0395507e-08,\n",
              "        5.7711741e-08, 5.6791873e-08, 4.7608673e-08, 4.8058183e-08,\n",
              "        5.8120246e-08, 9.8713595e-01, 5.1824120e-08, 5.6403248e-08,\n",
              "        4.4772772e-08, 5.2171441e-08, 4.7040107e-08, 4.4247781e-08,\n",
              "        4.1225530e-08, 5.3670075e-08]], dtype=float32)"
            ]
          },
          "metadata": {},
          "execution_count": 276
        }
      ]
    },
    {
      "cell_type": "code",
      "source": [
        "val_max = np.argmax(pred_results[0])\n",
        "\n",
        "for key, val in tokenizer.word_index.items():\n",
        "    if val == val_max:\n",
        "        k = key\n",
        "\n",
        "print(\"Predicted answer is: \", k)\n",
        "print(\"Probability of certainty was: \", pred_results[0][val_max])"
      ],
      "metadata": {
        "colab": {
          "base_uri": "https://localhost:8080/"
        },
        "id": "TEJU9H5pr95H",
        "outputId": "e78ed007-32d9-42cc-b3e2-35ac5151863d"
      },
      "execution_count": 277,
      "outputs": [
        {
          "output_type": "stream",
          "name": "stdout",
          "text": [
            "Predicted answer is:  no\n",
            "Probability of certainty was:  0.98713595\n"
          ]
        }
      ]
    }
  ],
  "metadata": {
    "accelerator": "GPU",
    "colab": {
      "provenance": []
    },
    "kernelspec": {
      "display_name": "Python 3",
      "name": "python3"
    },
    "language_info": {
      "name": "python"
    }
  },
  "nbformat": 4,
  "nbformat_minor": 0
}